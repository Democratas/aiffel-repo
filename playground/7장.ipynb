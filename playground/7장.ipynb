{
 "cells": [
  {
   "cell_type": "code",
   "execution_count": 3,
   "id": "df6ba71d",
   "metadata": {},
   "outputs": [],
   "source": [
    "import tensorflow as tf\n",
    "from tensorflow import keras\n",
    "from tensorflow.keras import layers"
   ]
  },
  {
   "cell_type": "markdown",
   "id": "bdff7464",
   "metadata": {},
   "source": [
    "## Sequential API"
   ]
  },
  {
   "cell_type": "code",
   "execution_count": 31,
   "id": "5aac5c37",
   "metadata": {},
   "outputs": [
    {
     "name": "stdout",
     "output_type": "stream",
     "text": [
      "Model: \"sequential_2\"\n",
      "_________________________________________________________________\n",
      "Layer (type)                 Output Shape              Param #   \n",
      "=================================================================\n",
      "dense_46 (Dense)             (None, 64)                256       \n",
      "_________________________________________________________________\n",
      "dense_47 (Dense)             (None, 10)                650       \n",
      "=================================================================\n",
      "Total params: 906\n",
      "Trainable params: 906\n",
      "Non-trainable params: 0\n",
      "_________________________________________________________________\n"
     ]
    }
   ],
   "source": [
    "model = keras.Sequential([    \n",
    "    layers.Dense(64, activation=\"relu\"), \n",
    "    layers.Dense(10, activation=\"softmax\") \n",
    "])\n",
    "\n",
    "# 또는\n",
    "model = keras.Sequential()\n",
    "model.add(layers.Dense(64, activation=\"relu\")) \n",
    "model.add(layers.Dense(10, activation=\"softmax\"))\n",
    "\n",
    "\n",
    "# build를 통해 input size를 지정한다.\n",
    "model.build((None, 3))\n",
    "\n",
    "model.summary()"
   ]
  },
  {
   "cell_type": "code",
   "execution_count": 32,
   "id": "0d3a8f34",
   "metadata": {},
   "outputs": [
    {
     "name": "stdout",
     "output_type": "stream",
     "text": [
      "Model: \"sequential_3\"\n",
      "_________________________________________________________________\n",
      "Layer (type)                 Output Shape              Param #   \n",
      "=================================================================\n",
      "dense_48 (Dense)             (None, 64)                256       \n",
      "=================================================================\n",
      "Total params: 256\n",
      "Trainable params: 256\n",
      "Non-trainable params: 0\n",
      "_________________________________________________________________\n"
     ]
    }
   ],
   "source": [
    "# input을 같이 지정\n",
    "model = keras.Sequential()\n",
    "model.add(keras.Input(shape=(3,)))\n",
    "model.add(layers.Dense(64, activation=\"relu\"))\n",
    "\n",
    "model.summary()"
   ]
  },
  {
   "cell_type": "markdown",
   "id": "35b0ef2d",
   "metadata": {},
   "source": [
    "## 함수형 API"
   ]
  },
  {
   "cell_type": "markdown",
   "id": "c406d3d5",
   "metadata": {},
   "source": [
    "### 단일 입력"
   ]
  },
  {
   "cell_type": "code",
   "execution_count": 4,
   "id": "cf544d84",
   "metadata": {},
   "outputs": [
    {
     "name": "stdout",
     "output_type": "stream",
     "text": [
      "Model: \"model\"\n",
      "_________________________________________________________________\n",
      "Layer (type)                 Output Shape              Param #   \n",
      "=================================================================\n",
      "my_input (InputLayer)        [(None, 3)]               0         \n",
      "_________________________________________________________________\n",
      "dense (Dense)                (None, 64)                256       \n",
      "_________________________________________________________________\n",
      "dense_1 (Dense)              (None, 10)                650       \n",
      "=================================================================\n",
      "Total params: 906\n",
      "Trainable params: 906\n",
      "Non-trainable params: 0\n",
      "_________________________________________________________________\n"
     ]
    }
   ],
   "source": [
    "inputs = keras.Input(shape=(3,), name=\"my_input\") # symbolic tensor\n",
    "features = layers.Dense(64, activation=\"relu\")(inputs)\n",
    "outputs = layers.Dense(10, activation=\"softmax\")(features)\n",
    "model = keras.Model(inputs=inputs, outputs=outputs)\n",
    "\n",
    "model.summary()"
   ]
  },
  {
   "cell_type": "markdown",
   "id": "f45d5059",
   "metadata": {},
   "source": [
    "### 다중 입력, 다중 출력"
   ]
  },
  {
   "cell_type": "code",
   "execution_count": 5,
   "id": "1c567627",
   "metadata": {},
   "outputs": [
    {
     "name": "stdout",
     "output_type": "stream",
     "text": [
      "Model: \"model_1\"\n",
      "__________________________________________________________________________________________________\n",
      "Layer (type)                    Output Shape         Param #     Connected to                     \n",
      "==================================================================================================\n",
      "title (InputLayer)              [(None, 10000)]      0                                            \n",
      "__________________________________________________________________________________________________\n",
      "text_body (InputLayer)          [(None, 10000)]      0                                            \n",
      "__________________________________________________________________________________________________\n",
      "tags (InputLayer)               [(None, 100)]        0                                            \n",
      "__________________________________________________________________________________________________\n",
      "concatenate (Concatenate)       (None, 20100)        0           title[0][0]                      \n",
      "                                                                 text_body[0][0]                  \n",
      "                                                                 tags[0][0]                       \n",
      "__________________________________________________________________________________________________\n",
      "dense_2 (Dense)                 (None, 64)           1286464     concatenate[0][0]                \n",
      "__________________________________________________________________________________________________\n",
      "priority (Dense)                (None, 1)            65          dense_2[0][0]                    \n",
      "__________________________________________________________________________________________________\n",
      "department (Dense)              (None, 4)            260         dense_2[0][0]                    \n",
      "==================================================================================================\n",
      "Total params: 1,286,789\n",
      "Trainable params: 1,286,789\n",
      "Non-trainable params: 0\n",
      "__________________________________________________________________________________________________\n"
     ]
    }
   ],
   "source": [
    "vocabulary_size = 10000\n",
    "num_tags = 100\n",
    "num_departments = 4\n",
    "\n",
    "# 3 inputs\n",
    "title = keras.Input(shape=(vocabulary_size,), name=\"title\")\n",
    "text_body = keras.Input(shape=(vocabulary_size,), name=\"text_body\")\n",
    "tags = keras.Input(shape=(num_tags,), name=\"tags\")\n",
    "\n",
    "# hidden\n",
    "features = layers.Concatenate()([title, text_body, tags])\n",
    "features = layers.Dense(64, activation=\"relu\")(features)\n",
    "\n",
    "# 2 outputs\n",
    "priority = layers.Dense(1, activation=\"sigmoid\", name=\"priority\")(features)\n",
    "department = layers.Dense(num_departments, activation=\"softmax\", name=\"department\")(features)\n",
    "\n",
    "model = keras.Model(inputs=[title, text_body, tags], outputs=[priority, department])\n",
    "model.summary()"
   ]
  },
  {
   "cell_type": "code",
   "execution_count": 10,
   "id": "1ecf5558",
   "metadata": {},
   "outputs": [
    {
     "data": {
      "image/png": "[encoded data removed]",
      "text/plain": [
       "<IPython.core.display.Image object>"
      ]
     },
     "execution_count": 10,
     "metadata": {},
     "output_type": "execute_result"
    }
   ],
   "source": [
    "from tensorflow.keras.utils import plot_model\n",
    "\n",
    "plot_model(model, show_shapes=True)"
   ]
  },
  {
   "cell_type": "code",
   "execution_count": 8,
   "id": "44defb01",
   "metadata": {},
   "outputs": [
    {
     "name": "stdout",
     "output_type": "stream",
     "text": [
      "40/40 [==============================] - 3s 25ms/step - loss: 21.1573 - priority_loss: 0.3223 - department_loss: 20.8350 - priority_mean_absolute_error: 0.4882 - department_accuracy: 0.3297\n",
      "40/40 [==============================] - 1s 9ms/step - loss: 18.8749 - priority_loss: 0.3351 - department_loss: 18.5398 - priority_mean_absolute_error: 0.5005 - department_accuracy: 0.2422\n"
     ]
    }
   ],
   "source": [
    "# 훈련\n",
    "import numpy as np\n",
    "\n",
    "# prepare dataset\n",
    "num_samples = 1280\n",
    "\n",
    "title_data = np.random.randint(0, 2, size=(num_samples, vocabulary_size))\n",
    "text_body_data = np.random.randint(0, 2, size=(num_samples, vocabulary_size))\n",
    "tags_data = np.random.randint(0, 2, size=(num_samples, num_tags)) \n",
    "\n",
    "priority_data = np.random.random(size=(num_samples, 1)) \n",
    "department_data = np.random.randint(0, 2, size=(num_samples, num_departments)) \n",
    "\n",
    "# train model\n",
    "model.compile(optimizer=\"rmsprop\",\n",
    "              loss={\n",
    "                  \"priority\": \"mean_squared_error\",\n",
    "                  \"department\": \"categorical_crossentropy\",\n",
    "              },\n",
    "              metrics={\n",
    "                  \"priority\": [\"mean_absolute_error\"],\n",
    "                  \"department\": [\"accuracy\"],\n",
    "              })\n",
    "\n",
    "model.fit([title_data, text_body_data, tags_data],\n",
    "          [priority_data, department_data],          \n",
    "          epochs=1)\n",
    "\n",
    "# evaluate\n",
    "model.evaluate([title_data, text_body_data, tags_data],               \n",
    "               [priority_data, department_data])\n",
    "priority_preds, department_preds = model.predict([title_data, text_body_data, tags_data])"
   ]
  },
  {
   "cell_type": "code",
   "execution_count": 9,
   "id": "b2a00b17",
   "metadata": {},
   "outputs": [
    {
     "name": "stdout",
     "output_type": "stream",
     "text": [
      "40/40 [==============================] - 2s 23ms/step - loss: 20.1189 - priority_loss: 0.3334 - department_loss: 19.7856 - priority_mean_absolute_error: 0.5002 - department_accuracy: 0.2516\n",
      "40/40 [==============================] - 1s 8ms/step - loss: 16.9903 - priority_loss: 0.3334 - department_loss: 16.6569 - priority_mean_absolute_error: 0.5002 - department_accuracy: 0.0492\n"
     ]
    }
   ],
   "source": [
    "# 훈련\n",
    "import numpy as np\n",
    "\n",
    "# prepare dataset\n",
    "num_samples = 1280\n",
    "\n",
    "title_data = np.random.randint(0, 2, size=(num_samples, vocabulary_size))\n",
    "text_body_data = np.random.randint(0, 2, size=(num_samples, vocabulary_size))\n",
    "tags_data = np.random.randint(0, 2, size=(num_samples, num_tags)) \n",
    "\n",
    "priority_data = np.random.random(size=(num_samples, 1)) \n",
    "department_data = np.random.randint(0, 2, size=(num_samples, num_departments)) \n",
    "\n",
    "# train model\n",
    "model.compile(optimizer=\"rmsprop\",\n",
    "              loss={\n",
    "                  \"priority\": \"mean_squared_error\",\n",
    "                  \"department\": \"categorical_crossentropy\",\n",
    "              },\n",
    "              metrics={\n",
    "                  \"priority\": [\"mean_absolute_error\"],\n",
    "                  \"department\": [\"accuracy\"],\n",
    "              })\n",
    "\n",
    "model.fit({\"title\": title_data,\n",
    "           \"text_body\": text_body_data,\n",
    "           \"tags\": tags_data},\n",
    "          {\"priority\": priority_data,\n",
    "           \"department\": department_data},\n",
    "          epochs=1)\n",
    "\n",
    "# evaluate\n",
    "model.evaluate({\"title\": title_data,\n",
    "                \"text_body\": text_body_data,\n",
    "                \"tags\": tags_data},\n",
    "               {\"priority\": priority_data,\n",
    "                \"department\": department_data})\n",
    "priority_preds, department_preds = model.predict({\"title\": title_data,\n",
    "                                                  \"text_body\": text_body_data,\n",
    "                                                  \"tags\": tags_data})"
   ]
  },
  {
   "cell_type": "markdown",
   "id": "71101363",
   "metadata": {},
   "source": [
    "### 새로운 출력 추가"
   ]
  },
  {
   "cell_type": "code",
   "execution_count": 12,
   "id": "9c72d8fd",
   "metadata": {},
   "outputs": [
    {
     "data": {
      "image/png": "[encoded data removed]",
      "text/plain": [
       "<IPython.core.display.Image object>"
      ]
     },
     "execution_count": 12,
     "metadata": {},
     "output_type": "execute_result"
    }
   ],
   "source": [
    "features = model.layers[4].output # 마지막 hidden layer의 출력\n",
    "difficulty = layers.Dense(3, activation=\"softmax\", name=\"difficulty\")(features)\n",
    "\n",
    "new_model = keras.Model(inputs=[title, text_body, tags],\n",
    "                        outputs=[priority, department, difficulty])\n",
    "\n",
    "plot_model(new_model, show_shapes=True)"
   ]
  },
  {
   "cell_type": "markdown",
   "id": "627152e2",
   "metadata": {},
   "source": [
    "## Subclassing"
   ]
  },
  {
   "cell_type": "code",
   "execution_count": 13,
   "id": "d5b081a1",
   "metadata": {},
   "outputs": [],
   "source": [
    "class CustomerTicketModel(keras.Model):     \n",
    "    def __init__(self, num_departments):        \n",
    "        super().__init__() \n",
    "        self.concat_layer = layers.Concatenate()\n",
    "        self.mixing_layer = layers.Dense(64, activation=\"relu\")          \n",
    "        self.priority_scorer = layers.Dense(1, activation=\"sigmoid\")         \n",
    "        self.department_classifier = layers.Dense(num_departments, activation=\"softmax\")     \n",
    "        \n",
    "    def call(self, inputs): \n",
    "        title = inputs[\"title\"]\n",
    "        text_body = inputs[\"text_body\"]\n",
    "        tags = inputs[\"tags\"]\n",
    "        \n",
    "        features = self.concat_layer([title, text_body, tags])\n",
    "        features = self.mixing_layer(features)\n",
    "        \n",
    "        priority = self.priority_scorer(features)\n",
    "        department = self.department_classifier(features)         \n",
    "        return priority, department"
   ]
  },
  {
   "cell_type": "code",
   "execution_count": 23,
   "id": "c4a4913f",
   "metadata": {},
   "outputs": [
    {
     "name": "stdout",
     "output_type": "stream",
     "text": [
      "40/40 [==============================] - 2s 27ms/step - loss: 42.7202 - output_1_loss: 0.3296 - output_2_loss: 42.3906 - output_1_mean_absolute_error: 0.4964 - output_2_accuracy: 0.2117\n",
      "Model: \"customer_ticket_model_8\"\n",
      "_________________________________________________________________\n",
      "Layer (type)                 Output Shape              Param #   \n",
      "=================================================================\n",
      "concatenate_9 (Concatenate)  multiple                  0         \n",
      "_________________________________________________________________\n",
      "dense_27 (Dense)             multiple                  1286464   \n",
      "_________________________________________________________________\n",
      "dense_28 (Dense)             multiple                  65        \n",
      "_________________________________________________________________\n",
      "dense_29 (Dense)             multiple                  260       \n",
      "=================================================================\n",
      "Total params: 1,286,789\n",
      "Trainable params: 1,286,789\n",
      "Non-trainable params: 0\n",
      "_________________________________________________________________\n"
     ]
    }
   ],
   "source": [
    "model = CustomerTicketModel(num_departments=4)\n",
    "\n",
    "\n",
    "model.compile(optimizer=\"rmsprop\",\n",
    "              loss=[\"mean_squared_error\", \"categorical_crossentropy\"],\n",
    "              metrics=[[\"mean_absolute_error\"], [\"accuracy\"]])\n",
    "\n",
    "# model.summary() # 오류가 남\n",
    "\n",
    "model.fit({\"title\": title_data,\n",
    "           \"text_body\": text_body_data,\n",
    "           \"tags\": tags_data},\n",
    "          [priority_data, department_data],\n",
    "          epochs=1)\n",
    "\n",
    "model.summary()"
   ]
  },
  {
   "cell_type": "markdown",
   "id": "2a88fc7c",
   "metadata": {},
   "source": [
    "## 혼합"
   ]
  },
  {
   "cell_type": "code",
   "execution_count": 27,
   "id": "c0e86de9",
   "metadata": {},
   "outputs": [
    {
     "name": "stdout",
     "output_type": "stream",
     "text": [
      "Model: \"model_7\"\n",
      "_________________________________________________________________\n",
      "Layer (type)                 Output Shape              Param #   \n",
      "=================================================================\n",
      "input_4 (InputLayer)         [(None, 3)]               0         \n",
      "_________________________________________________________________\n",
      "dense_36 (Dense)             (None, 64)                256       \n",
      "_________________________________________________________________\n",
      "classifier_3 (Classifier)    (None, 10)                650       \n",
      "=================================================================\n",
      "Total params: 906\n",
      "Trainable params: 906\n",
      "Non-trainable params: 0\n",
      "_________________________________________________________________\n"
     ]
    }
   ],
   "source": [
    "class Classifier(keras.Model):\n",
    "    def __init__(self, num_classes=2):\n",
    "        super().__init__()\n",
    "        \n",
    "        if num_classes == 2:\n",
    "            num_units = 1\n",
    "            activation = \"sigmoid\"\n",
    "        else:\n",
    "            num_units = num_classes     \n",
    "            activation = \"softmax\"\n",
    "        \n",
    "        self.dense = layers.Dense(num_units, activation=activation)\n",
    "    \n",
    "    def call(self, inputs):\n",
    "        return self.dense(inputs)\n",
    "    \n",
    "inputs = keras.Input(shape=(3,))\n",
    "features = layers.Dense(64, activation=\"relu\")(inputs)\n",
    "outputs = Classifier(num_classes=10)(features) # classifier에 대해서는 Subclasing model을 사용\n",
    "model = keras.Model(inputs=inputs, outputs=outputs)\n",
    "\n",
    "model.summary()"
   ]
  },
  {
   "cell_type": "code",
   "execution_count": 29,
   "id": "28e1b429",
   "metadata": {},
   "outputs": [],
   "source": [
    "inputs = keras.Input(shape=(64,))\n",
    "outputs = layers.Dense(1, activation=\"sigmoid\")(inputs)\n",
    "binary_classifier = keras.Model(inputs=inputs, outputs=outputs)\n",
    "\n",
    "class MyModel(keras.Model): \n",
    "    def __init__(self, num_classes=2):\n",
    "        super().__init__()\n",
    "        \n",
    "        self.dense = layers.Dense(64, activation=\"relu\") \n",
    "        self.classifier = binary_classifier # classifier에 대해서는 functional model 사용\n",
    "    \n",
    "    def call(self, inputs):        \n",
    "        features = self.dense(inputs)\n",
    "        return self.classifier(features)           \n",
    "    \n",
    "model = MyModel()"
   ]
  },
  {
   "cell_type": "markdown",
   "id": "5207bb3f",
   "metadata": {},
   "source": [
    "---"
   ]
  },
  {
   "cell_type": "markdown",
   "id": "d83adec6",
   "metadata": {},
   "source": [
    "## 사용자 정의 훈련, 평가 루프"
   ]
  },
  {
   "cell_type": "code",
   "execution_count": 72,
   "id": "7b58b697",
   "metadata": {},
   "outputs": [],
   "source": [
    "def get_mnist_model():\n",
    "    inputs = keras.Input(shape=(28 * 28,))\n",
    "    features = layers.Dense(512, activation=\"relu\")(inputs)    \n",
    "    features = layers.Dropout(0.5)(features)   \n",
    "    outputs = layers.Dense(10, activation=\"softmax\")(features)    \n",
    "    model = keras.Model(inputs, outputs)    \n",
    "    return model\n",
    "\n",
    "(images, labels), (test_images, test_labels) = keras.datasets.mnist.load_data()\n",
    "images = images.reshape((60000, 28 * 28)).astype(\"float32\") / 255\n",
    "test_images = test_images.reshape((10000, 28 * 28)).astype(\"float32\") / 255 \n",
    "train_images, val_images = images[10000:], images[:10000]\n",
    "train_labels, val_labels = labels[10000:], labels[:10000]"
   ]
  },
  {
   "cell_type": "code",
   "execution_count": 73,
   "id": "79cd2ed1",
   "metadata": {},
   "outputs": [],
   "source": [
    "# fit\n",
    "model = get_mnist_model()\n",
    "\n",
    "loss_fn = keras.losses.SparseCategoricalCrossentropy()\n",
    "optimizer = keras.optimizers.RMSprop()\n",
    "metrics = [keras.metrics.SparseCategoricalAccuracy()]\n",
    "loss_tracking_metric = keras.metrics.Mean()\n",
    "\n",
    "@tf.function\n",
    "def train_step(inputs, targets):    \n",
    "    with tf.GradientTape() as tape:\n",
    "        predictions = model(inputs, training=True)\n",
    "        loss = loss_fn(targets, predictions)\n",
    "    gradients = tape.gradient(loss, model.trainable_weights)\n",
    "    optimizer.apply_gradients(zip(gradients, model.trainable_weights)) \n",
    "    \n",
    "    logs = {}\n",
    "    \n",
    "    for metric in metrics: \n",
    "        metric.update_state(targets, predictions)\n",
    "        logs[metric.name] = metric.result() \n",
    "    \n",
    "    loss_tracking_metric.update_state(loss)\n",
    "    logs[\"loss\"] = loss_tracking_metric.result()\n",
    "    return logs\n",
    "\n",
    "# 매 train 마다 \n",
    "def reset_metrics():\n",
    "    for metric in metrics:\n",
    "        metric.reset_state()\n",
    "    \n",
    "    loss_tracking_metric.reset_state()\n",
    "    "
   ]
  },
  {
   "cell_type": "code",
   "execution_count": 75,
   "id": "6f63d38a",
   "metadata": {},
   "outputs": [
    {
     "name": "stdout",
     "output_type": "stream",
     "text": [
      "1번째 에포크 결과\n",
      "...sparse_categorical_accuracy: 0.9682\n",
      "...loss: 0.1238\n",
      "2번째 에포크 결과\n",
      "...sparse_categorical_accuracy: 0.9704\n",
      "...loss: 0.1182\n",
      "3번째 에포크 결과\n",
      "...sparse_categorical_accuracy: 0.9725\n",
      "...loss: 0.1123\n"
     ]
    }
   ],
   "source": [
    "training_dataset = (tf.data.Dataset\n",
    "                    .from_tensor_slices((train_images, train_labels))\n",
    "                    .batch(32))\n",
    "epochs = 3\n",
    "\n",
    "for epoch in range(1, epochs+1):\n",
    "    reset_metrics()\n",
    "\n",
    "    for inputs_batch, targets_batch in training_dataset:        \n",
    "        logs = train_step(inputs_batch, targets_batch)   \n",
    "\n",
    "    print(f\"{epoch}번째 에포크 결과\")    \n",
    "\n",
    "    for key, value in logs.items():\n",
    "        print(f\"...{key}: {value:.4f}\")"
   ]
  },
  {
   "cell_type": "code",
   "execution_count": 78,
   "id": "d6b5512f",
   "metadata": {},
   "outputs": [
    {
     "name": "stdout",
     "output_type": "stream",
     "text": [
      "평가 결과:\n",
      "...val_sparse_categorical_accuracy: 0.9722\n",
      "...val_loss: 0.1282\n"
     ]
    }
   ],
   "source": [
    "# evaluate\n",
    "def test_step(inputs, targets):\n",
    "    predictions = model(inputs, training=False) # training=False를 전달합니다.    \n",
    "    loss = loss_fn(targets, predictions)\n",
    "    logs = {}    \n",
    "    \n",
    "    for metric in metrics:        \n",
    "        metric.update_state(targets, predictions) \n",
    "        logs[\"val_\" + metric.name] = metric.result()\n",
    "    \n",
    "    loss_tracking_metric.update_state(loss)   \n",
    "    logs[\"val_loss\"] = loss_tracking_metric.result()    \n",
    "    return logs      \n",
    "\n",
    "val_dataset = (tf.data.Dataset\n",
    "               .from_tensor_slices((val_images, val_labels))\n",
    "              .batch(32))\n",
    "reset_metrics() \n",
    "\n",
    "for inputs_batch, targets_batch in val_dataset:   \n",
    "    logs = test_step(inputs_batch, targets_batch) \n",
    "\n",
    "print(\"평가 결과:\") \n",
    "\n",
    "for key, value in logs.items():       \n",
    "    print(f\"...{key}: {value:.4f}\")"
   ]
  },
  {
   "cell_type": "markdown",
   "id": "ab1d27df",
   "metadata": {},
   "source": [
    "---"
   ]
  },
  {
   "cell_type": "markdown",
   "id": "3511383e",
   "metadata": {},
   "source": [
    "## 회고\n",
    "\n",
    "- Keras로 모델을 생성하는 다양한 사용법을 알았고, 특히 subclassing 방식을 사용하여야하는 케이스를 알 수 있게된 것이 좋았습니다.\n",
    "- 과정이 진행되면서 다양한 형태의 모델을 다룰텐데 오늘 내용이 큰 도움이 될 것 같습니다.\n",
    "\n",
    "- 또한 실험을 하는 과정에서 모델을 구성할 때 어떻게 하면 좋을지 결과는 왜 그렇게 나오는지를 고민할 수 있어서 좋았습니다."
   ]
  }
 ],
 "metadata": {
  "kernelspec": {
   "display_name": "Python 3 (ipykernel)",
   "language": "python",
   "name": "python3"
  },
  "language_info": {
   "codemirror_mode": {
    "name": "ipython",
    "version": 3
   },
   "file_extension": ".py",
   "mimetype": "text/x-python",
   "name": "python",
   "nbconvert_exporter": "python",
   "pygments_lexer": "ipython3",
   "version": "3.9.7"
  }
 },
 "nbformat": 4,
 "nbformat_minor": 5
}
